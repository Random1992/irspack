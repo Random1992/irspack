{
 "cells": [
  {
   "cell_type": "markdown",
   "metadata": {},
   "source": [
    "# Train our first movie recommender\n",
    "\n",
    "In this tutorial, we build our first recommender system using a simple algorithm called [P3alpha](https://nms.kcl.ac.uk/colin.cooper/papers/recommender-rw.pdf).\n",
    "\n",
    "We will be learning\n",
    "\n",
    "- How to represent the implicit feedback dataset as a sparse matrix.\n",
    "- How to fit `irspack`'s models using the sparse matrix representation.\n",
    "- How to make a recommendation using our API."
   ]
  },
  {
   "cell_type": "code",
   "execution_count": 1,
   "metadata": {
    "tags": [
     "parameters"
    ]
   },
   "outputs": [],
   "source": [
    "import numpy as np\n",
    "import scipy.sparse as sps\n",
    "\n",
    "from irspack.dataset.movielens import MovieLens1MDataManager\n",
    "from irspack.recommenders import P3alphaRecommender"
   ]
  },
  {
   "cell_type": "markdown",
   "metadata": {},
   "source": [
    "## Read Movielens 1M dataset\n",
    "\n",
    "We first load the [Movielens1M](https://grouplens.org/datasets/movielens/1m/) dataset. For the first time, you will be asked to allow downloading the dataset."
   ]
  },
  {
   "cell_type": "code",
   "execution_count": null,
   "metadata": {},
   "outputs": [],
   "source": [
    "loader = MovieLens1MDataManager(force_download=True)\n",
    "\n",
    "df = loader.read_interaction()\n",
    "df.head()"
   ]
  },
  {
   "cell_type": "markdown",
   "metadata": {},
   "source": [
    "`df` stores the users' watch event history.\n",
    "\n",
    "Although the rating information is available in this case, we will not be using this column. What matters to implicit feedback based recommender system is \"which user interacted with which item (movie)\".\n",
    "\n",
    "By `loader` we can also read the dataframe for the movie meta data:"
   ]
  },
  {
   "cell_type": "code",
   "execution_count": null,
   "metadata": {},
   "outputs": [],
   "source": [
    "movies = loader.read_item_info()\n",
    "movies.head()"
   ]
  },
  {
   "cell_type": "markdown",
   "metadata": {},
   "source": [
    "## Represent your data as a sparse matrix\n",
    "\n",
    "We represent the data as a sparse matrix $X$, whose element $X_{ui}$ is given by\n",
    "\n",
    "$$\n",
    "X_{ui} = \\begin{cases}\n",
    "1 & \\text{if the user }u\\text{ has watched the item (movie) } i \\\\\n",
    "0 & \\text{otherwise}\n",
    "\\end{cases}\n",
    "$$\n",
    "\n",
    "For this purpose, we use `np.unique` function with `return_inverse=True`.\n",
    "This will return a tuple that consists of\n",
    "\n",
    "1. The list of unique user/movie ids appearing in the original user/movie id array\n",
    "2. How the original user/movie id array elements are mapped to the array 1.\n",
    "\n",
    "So if we do"
   ]
  },
  {
   "cell_type": "code",
   "execution_count": null,
   "metadata": {},
   "outputs": [],
   "source": [
    "unique_user_ids, user_index = np.unique(df.userId, return_inverse=True)\n",
    "unique_movie_ids, movie_index = np.unique(df.movieId, return_inverse=True)"
   ]
  },
  {
   "cell_type": "markdown",
   "metadata": {},
   "source": [
    "then ``unique_user_ids[user_index]`` and ``unique_movie_ids[movie_index]`` is equal to the original array:"
   ]
  },
  {
   "cell_type": "code",
   "execution_count": null,
   "metadata": {},
   "outputs": [],
   "source": [
    "assert np.all( unique_user_ids[user_index] == df.userId.values )\n",
    "assert np.all( unique_movie_ids[movie_index] == df.movieId.values )"
   ]
  },
  {
   "cell_type": "markdown",
   "metadata": {},
   "source": [
    "Thus, we can think of ``user_index`` and ``movie_index`` as representing the row and column positions of non-zero elements, respectively.\n",
    "\n",
    "Now $X$ can be constructed as [scipy's sparse csr matrix](https://docs.scipy.org/doc/scipy/reference/generated/scipy.sparse.csr_matrix.html) as follows."
   ]
  },
  {
   "cell_type": "code",
   "execution_count": null,
   "metadata": {},
   "outputs": [],
   "source": [
    "X = sps.csr_matrix(\n",
    "    (\n",
    "        np.ones(df.shape[0]), # values of non-zero elements\n",
    "        (\n",
    "            user_index, # rows of non-zero elements\n",
    "            movie_index # cols of non-zero elements\n",
    "        )\n",
    "    )\n",
    ")\n",
    "\n",
    "X"
   ]
  },
  {
   "cell_type": "markdown",
   "metadata": {},
   "source": [
    "## Fit the recommender.\n",
    "\n",
    "We fit `P3alphaRecommender` against X."
   ]
  },
  {
   "cell_type": "code",
   "execution_count": null,
   "metadata": {},
   "outputs": [],
   "source": [
    "recommender = P3alphaRecommender(X)\n",
    "recommender.learn()"
   ]
  },
  {
   "cell_type": "markdown",
   "metadata": {},
   "source": [
    "## Check the recommender's output\n",
    "\n",
    "Suppose there is a new user who has just watched \"Toy Story\". Let us see what would be the recommended for this user.\n",
    "\n",
    "We first represent the user's watch profile as another sparse matrix (which contains a single non-zero element)."
   ]
  },
  {
   "cell_type": "code",
   "execution_count": null,
   "metadata": {},
   "outputs": [],
   "source": [
    "movie_id_vs_movie_index = { mid: i for i, mid in enumerate(unique_movie_ids)}\n",
    "\n",
    "toystory_id = 1\n",
    "toystory_watcher_matrix = sps.csr_matrix(\n",
    "    ([1], ([0], [movie_id_vs_movie_index[toystory_id]])),\n",
    "    shape=(1, len(unique_movie_ids)) # this time shape parameter is required\n",
    ")\n",
    "\n",
    "movies.loc[toystory_id]"
   ]
  },
  {
   "cell_type": "markdown",
   "metadata": {},
   "source": [
    "Since this user is new (previously unseen) to the recommender, we use `get_score_cold_user_remove_seen` method.\n",
    "\n",
    "`remove_seen` means that we mask the scores for the items that user had watched already (in this case, Toy Story) so that such items would not be recommended again.\n",
    "\n",
    "As you can see, the score corresponding to \"Toy Story\" has $-\\infty$ score."
   ]
  },
  {
   "cell_type": "code",
   "execution_count": null,
   "metadata": {},
   "outputs": [],
   "source": [
    "score = recommender.get_score_cold_user_remove_seen(\n",
    "    toystory_watcher_matrix\n",
    ")\n",
    "\n",
    "# Id 1 (index 0) is masked (have -infinity score)\n",
    "score"
   ]
  },
  {
   "cell_type": "markdown",
   "metadata": {},
   "source": [
    "To get the recommendation, we ``argsort`` wthe score by descending order\n",
    "and convert \"movie index\" (which starts from 0) to \"movie id\"."
   ]
  },
  {
   "cell_type": "code",
   "execution_count": null,
   "metadata": {},
   "outputs": [],
   "source": [
    "recommended_movie_index = score[0].argsort()[::-1][:10]\n",
    "recommended_movie_ids = unique_movie_ids[recommended_movie_index]\n",
    "\n",
    "# Top-10 recommendations\n",
    "recommended_movie_ids"
   ]
  },
  {
   "cell_type": "markdown",
   "metadata": {},
   "source": [
    "And here are the titles of the recommendations."
   ]
  },
  {
   "cell_type": "code",
   "execution_count": null,
   "metadata": {},
   "outputs": [],
   "source": [
    "movies.reindex(recommended_movie_ids)"
   ]
  },
  {
   "cell_type": "markdown",
   "metadata": {},
   "source": [
    "The above pattern - mapping item IDs to indexes, creating sparse matrices, and reverting indexes of recommended items to item IDs - is a quite common one, and we have also created a convenient class that does the item index/ID mapping:"
   ]
  },
  {
   "cell_type": "code",
   "execution_count": null,
   "metadata": {},
   "outputs": [],
   "source": [
    "from irspack.utils.id_mapping import IDMappedRecommender\n",
    "\n",
    "id_mapped_rec = IDMappedRecommender(\n",
    "    recommender,\n",
    "    user_ids=unique_user_ids,\n",
    "    item_ids=unique_movie_ids\n",
    ")\n",
    "id_and_scores = id_mapped_rec.get_recommendation_for_new_user(\n",
    "    [toystory_id], cutoff = 10\n",
    ")\n",
    "movies.reindex(\n",
    "    [ item_id for item_id, score in id_and_scores ]\n",
    ")"
   ]
  },
  {
   "cell_type": "markdown",
   "metadata": {},
   "source": [
    "While the above result might make sense, this is not an optimal result.\n",
    "To get better results, we have to tune the recommender's hyper parameters\n",
    "against some accuracy metric measured on a validation set.\n",
    "\n",
    "In the next tutorial, we will see how to define the hold-out and validation score."
   ]
  }
 ],
 "metadata": {
  "kernelspec": {
   "display_name": "Python 3",
   "language": "python",
   "name": "python3"
  },
  "language_info": {
   "codemirror_mode": {
    "name": "ipython",
    "version": 3
   },
   "file_extension": ".py",
   "mimetype": "text/x-python",
   "name": "python",
   "nbconvert_exporter": "python",
   "pygments_lexer": "ipython3",
   "version": "3.7.4"
  }
 },
 "nbformat": 4,
 "nbformat_minor": 4
}
